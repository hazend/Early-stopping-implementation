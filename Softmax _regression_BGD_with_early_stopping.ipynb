{
 "cells": [
  {
   "cell_type": "markdown",
   "id": "b7f64295",
   "metadata": {},
   "source": [
    "### Implement Batch Gradient Descent ***with*** early stopping ***for*** Softmax Regression\n",
    "(without using Scikit-Learn)"
   ]
  },
  {
   "cell_type": "code",
   "execution_count": 33,
   "id": "fa4d345a",
   "metadata": {},
   "outputs": [],
   "source": [
    "%matplotlib inline\n",
    "import matplotlib.pyplot as plt\n",
    "import os\n",
    "import numpy as np\n",
    "import pandas as pd\n",
    "\n",
    "# Figure saving funciton\n",
    "def savefig(NAME=\"figure\", TRANSPARENT=True):\n",
    "    os.makedirs(\"Softmax_BGD_earlystopping_figures\", exist_ok=True)\n",
    "    path = os.path.join(\"Figures\", NAME)\n",
    "    plt.savefig(path, transparent=TRANSPARENT)"
   ]
  },
  {
   "cell_type": "markdown",
   "id": "05367047",
   "metadata": {},
   "source": [
    "## Getting the dataset\n"
   ]
  },
  {
   "cell_type": "markdown",
   "id": "aec3f53d",
   "metadata": {},
   "source": [
    "Using the entire iris dataset.\n",
    "\n",
    "Features containing all 4 features of iris dataset. labels contain `iris-setosa`, `iris-versicolor` and `iris-verginica`"
   ]
  },
  {
   "cell_type": "code",
   "execution_count": 2,
   "id": "30b9fb8b",
   "metadata": {},
   "outputs": [
    {
     "data": {
      "text/html": [
       "<div>\n",
       "<style scoped>\n",
       "    .dataframe tbody tr th:only-of-type {\n",
       "        vertical-align: middle;\n",
       "    }\n",
       "\n",
       "    .dataframe tbody tr th {\n",
       "        vertical-align: top;\n",
       "    }\n",
       "\n",
       "    .dataframe thead th {\n",
       "        text-align: right;\n",
       "    }\n",
       "</style>\n",
       "<table border=\"1\" class=\"dataframe\">\n",
       "  <thead>\n",
       "    <tr style=\"text-align: right;\">\n",
       "      <th></th>\n",
       "      <th>sepal length</th>\n",
       "      <th>sepal width</th>\n",
       "      <th>petal length</th>\n",
       "      <th>petal width</th>\n",
       "      <th>class</th>\n",
       "    </tr>\n",
       "  </thead>\n",
       "  <tbody>\n",
       "    <tr>\n",
       "      <th>0</th>\n",
       "      <td>5.1</td>\n",
       "      <td>3.5</td>\n",
       "      <td>1.4</td>\n",
       "      <td>0.2</td>\n",
       "      <td>Iris-setosa</td>\n",
       "    </tr>\n",
       "    <tr>\n",
       "      <th>1</th>\n",
       "      <td>4.9</td>\n",
       "      <td>3.0</td>\n",
       "      <td>1.4</td>\n",
       "      <td>0.2</td>\n",
       "      <td>Iris-setosa</td>\n",
       "    </tr>\n",
       "    <tr>\n",
       "      <th>2</th>\n",
       "      <td>4.7</td>\n",
       "      <td>3.2</td>\n",
       "      <td>1.3</td>\n",
       "      <td>0.2</td>\n",
       "      <td>Iris-setosa</td>\n",
       "    </tr>\n",
       "    <tr>\n",
       "      <th>3</th>\n",
       "      <td>4.6</td>\n",
       "      <td>3.1</td>\n",
       "      <td>1.5</td>\n",
       "      <td>0.2</td>\n",
       "      <td>Iris-setosa</td>\n",
       "    </tr>\n",
       "    <tr>\n",
       "      <th>4</th>\n",
       "      <td>5.0</td>\n",
       "      <td>3.6</td>\n",
       "      <td>1.4</td>\n",
       "      <td>0.2</td>\n",
       "      <td>Iris-setosa</td>\n",
       "    </tr>\n",
       "  </tbody>\n",
       "</table>\n",
       "</div>"
      ],
      "text/plain": [
       "   sepal length  sepal width  petal length  petal width        class\n",
       "0           5.1          3.5           1.4          0.2  Iris-setosa\n",
       "1           4.9          3.0           1.4          0.2  Iris-setosa\n",
       "2           4.7          3.2           1.3          0.2  Iris-setosa\n",
       "3           4.6          3.1           1.5          0.2  Iris-setosa\n",
       "4           5.0          3.6           1.4          0.2  Iris-setosa"
      ]
     },
     "execution_count": 2,
     "metadata": {},
     "output_type": "execute_result"
    }
   ],
   "source": [
    "iris = pd.read_csv(\"datasets/iris.csv\")\n",
    "iris.head()#, iris.describe()"
   ]
  },
  {
   "cell_type": "markdown",
   "id": "1317c32a",
   "metadata": {},
   "source": [
    "Splitting into features-labels"
   ]
  },
  {
   "cell_type": "code",
   "execution_count": 3,
   "id": "96d49cb9",
   "metadata": {},
   "outputs": [
    {
     "data": {
      "text/plain": [
       "(array([[5.1, 3.5, 1.4, 0.2],\n",
       "        [4.9, 3. , 1.4, 0.2],\n",
       "        [4.7, 3.2, 1.3, 0.2],\n",
       "        [4.6, 3.1, 1.5, 0.2],\n",
       "        [5. , 3.6, 1.4, 0.2]]),\n",
       " array([['Iris-setosa'],\n",
       "        ['Iris-setosa'],\n",
       "        ['Iris-setosa'],\n",
       "        ['Iris-setosa'],\n",
       "        ['Iris-setosa']], dtype=object),\n",
       " (150, 4),\n",
       " (150, 1))"
      ]
     },
     "execution_count": 3,
     "metadata": {},
     "output_type": "execute_result"
    }
   ],
   "source": [
    "X = np.array(iris.drop([\"class\"], axis=1).copy())\n",
    "y = np.array(iris[\"class\"]).reshape(-1, 1)\n",
    "\n",
    "\n",
    "X[:5], y[:5], X.shape, y.shape"
   ]
  },
  {
   "cell_type": "markdown",
   "id": "5f383d04",
   "metadata": {},
   "source": [
    "### Preparing the data"
   ]
  },
  {
   "cell_type": "markdown",
   "id": "3f29e5d3",
   "metadata": {},
   "source": [
    "##### One-hot encoding for`y`\n",
    "\n",
    "1 if class, 0 if non-class"
   ]
  },
  {
   "cell_type": "code",
   "execution_count": 4,
   "id": "55f119b2",
   "metadata": {},
   "outputs": [],
   "source": [
    "def One_hot_encoder(y):\n",
    "    \n",
    "    if y.dtype != np.int64:\n",
    "        _, y = np.unique(y, return_inverse=True)\n",
    "    \n",
    "    n_classes = y.max() + 1 # total classses\n",
    "    m = len(y) # length of set\n",
    "    Y_one_hot = np.zeros((m, n_classes)) # zeros matrix\n",
    "    Y_one_hot[np.arange(m), y] = 1\n",
    "    return Y_one_hot\n",
    "\n",
    "y = One_hot_encoder(y)"
   ]
  },
  {
   "cell_type": "code",
   "execution_count": 5,
   "id": "c2a6f71d",
   "metadata": {},
   "outputs": [
    {
     "data": {
      "text/plain": [
       "((150, 4), (150, 3))"
      ]
     },
     "execution_count": 5,
     "metadata": {},
     "output_type": "execute_result"
    }
   ],
   "source": [
    "X.shape, y.shape"
   ]
  },
  {
   "cell_type": "markdown",
   "id": "4fe6c541",
   "metadata": {},
   "source": [
    "##### Train-Test splitting"
   ]
  },
  {
   "cell_type": "code",
   "execution_count": 25,
   "id": "1d0a027e",
   "metadata": {},
   "outputs": [],
   "source": [
    "def split_train_test(X, y, test_ratio=0.2, validation_ratio=0.2, RANDOM_STATE=42):\n",
    "    \n",
    "    np.random.seed(RANDOM_STATE)\n",
    "    m = len(X)\n",
    "    indices = np.random.permutation(m) # to get shuffled indices\n",
    "    s = int((1-test_ratio)*m) # train_set size\n",
    "    \n",
    "    # shuffling sets\n",
    "    X = np.array([X[i] for i in indices])\n",
    "    y = np.array([y[i] for i in indices])\n",
    "    \n",
    "    #splitting sets\n",
    "    X_train, X_test = X[:s], X[s:]\n",
    "    y_train, y_test = y[:s], y[s:]\n",
    "    \n",
    "    #similarly, splitting into training and validation\n",
    "    \n",
    "    s_val = int((1-validation_ratio)*s)\n",
    "    X_train, X_val = X_train[:s_val], X_train[s_val:]\n",
    "    y_train, y_val = y_train[:s_val], y_train[s_val:]\n",
    "    \n",
    "    return X_train, X_test, X_val, y_train, y_test, y_val \n",
    "\n",
    "X_train, X_test, X_val, y_train, y_test, y_val  = split_train_test(X, y)"
   ]
  },
  {
   "cell_type": "code",
   "execution_count": 26,
   "id": "dc2b73ce",
   "metadata": {},
   "outputs": [
    {
     "data": {
      "text/plain": [
       "(array([[6.1, 2.8, 4.7, 1.2],\n",
       "        [5.7, 3.8, 1.7, 0.3],\n",
       "        [7.7, 2.6, 6.9, 2.3],\n",
       "        [6. , 2.9, 4.5, 1.5],\n",
       "        [6.8, 2.8, 4.8, 1.4]]),\n",
       " array([[0., 1., 0.],\n",
       "        [1., 0., 0.],\n",
       "        [0., 0., 1.],\n",
       "        [0., 1., 0.],\n",
       "        [0., 1., 0.]]))"
      ]
     },
     "execution_count": 26,
     "metadata": {},
     "output_type": "execute_result"
    }
   ],
   "source": [
    "X_train[:5], y_train[:5]"
   ]
  },
  {
   "cell_type": "code",
   "execution_count": 28,
   "id": "6985c4bf",
   "metadata": {},
   "outputs": [
    {
     "data": {
      "text/plain": [
       "((96, 4), (30, 4), (24, 4), (96, 3), (30, 3), (24, 3))"
      ]
     },
     "execution_count": 28,
     "metadata": {},
     "output_type": "execute_result"
    }
   ],
   "source": [
    "X_train.shape, X_test.shape, X_val.shape, y_train.shape, y_test.shape, y_val.shape"
   ]
  },
  {
   "cell_type": "markdown",
   "id": "d969cff5",
   "metadata": {},
   "source": [
    "## Training..."
   ]
  },
  {
   "cell_type": "markdown",
   "id": "a40555da",
   "metadata": {},
   "source": [
    "Softmax function\n",
    "\n",
    "parameter: `logits` - the softmax score"
   ]
  },
  {
   "cell_type": "code",
   "execution_count": 29,
   "id": "28bae43d",
   "metadata": {},
   "outputs": [],
   "source": [
    "def softmax(logits):\n",
    "    exps = np.exp(logits)\n",
    "    exp_sums = np.sum(exps, axis=1, keepdims=True)\n",
    "    return exps / exp_sums"
   ]
  },
  {
   "cell_type": "markdown",
   "id": "329ea122",
   "metadata": {},
   "source": [
    "Adding bias to `X_train`"
   ]
  },
  {
   "cell_type": "code",
   "execution_count": 32,
   "id": "72e19b0b",
   "metadata": {},
   "outputs": [
    {
     "data": {
      "text/plain": [
       "(array([[1. , 6.1, 2.8, 4.7, 1.2],\n",
       "        [1. , 5.7, 3.8, 1.7, 0.3],\n",
       "        [1. , 7.7, 2.6, 6.9, 2.3],\n",
       "        [1. , 6. , 2.9, 4.5, 1.5],\n",
       "        [1. , 6.8, 2.8, 4.8, 1.4]]),\n",
       " (96, 5))"
      ]
     },
     "execution_count": 32,
     "metadata": {},
     "output_type": "execute_result"
    }
   ],
   "source": [
    "X_b = np.c_[np.ones((len(X_train), 1)), X_train]\n",
    "X_b[:5], X_b.shape"
   ]
  },
  {
   "cell_type": "markdown",
   "id": "ae52be3a",
   "metadata": {},
   "source": [
    "### Plain Batch Gradient Descent implementation"
   ]
  },
  {
   "cell_type": "markdown",
   "id": "18a6053b",
   "metadata": {},
   "source": [
    "Using the **cost function** and **gradients equation** for ***Softmax Regression***"
   ]
  },
  {
   "cell_type": "code",
   "execution_count": 40,
   "id": "48fa4f4f",
   "metadata": {},
   "outputs": [
    {
     "name": "stdout",
     "output_type": "stream",
     "text": [
      "i=1, loss=2.337304707445033\n",
      "i=501, loss=0.4668149151970716\n",
      "i=1001, loss=0.3804003614058972\n",
      "i=1501, loss=0.32813455991474877\n",
      "i=2001, loss=0.291521959581654\n",
      "i=2501, loss=0.26427733795626357\n",
      "i=3001, loss=0.2431981149149047\n",
      "i=3501, loss=0.22640085652830266\n",
      "i=4001, loss=0.21269579114000314\n",
      "i=4501, loss=0.2012944589364678\n"
     ]
    }
   ],
   "source": [
    "eta = 0.01 # Learning rate\n",
    "n_iterations = 5001\n",
    "m = len(X_train)\n",
    "epsilon = 1e-7 # since log(0) is inf, compute log(epsilon instead)\n",
    "\n",
    "# parameter dimensions: no_of_features+bias X no_of_outputs\n",
    "theta = np.random.randn(5, 3)\n",
    "\n",
    "# paths\n",
    "loss_path = []\n",
    "\n",
    "for iteration in range(n_iterations):\n",
    "    logits = X_b.dot(theta)\n",
    "    \n",
    "    # probability vector\n",
    "    p_k = softmax(logits)\n",
    "    \n",
    "    # Also, printing the loss for every 500th iteration\n",
    "    loss = -np.mean(np.sum(y_train * np.log(p_k + epsilon) , axis=1)) # because loss already -ve\n",
    "    loss_path.append(loss)\n",
    "    if iteration%500 == 1:\n",
    "        print(f\"i={iteration}, loss={loss}\")\n",
    "        \n",
    "    # error (for all instances)\n",
    "    error = p_k - y_train\n",
    "    \n",
    "    # gradient vector\n",
    "    gradients = 1/m * X_b.T.dot(error)\n",
    "    \n",
    "    # updating theta\n",
    "    theta = theta - eta*gradients"
   ]
  },
  {
   "cell_type": "markdown",
   "id": "4a0ecc7c",
   "metadata": {},
   "source": [
    "Plotting the error across epochs"
   ]
  },
  {
   "cell_type": "code",
   "execution_count": 48,
   "id": "55114e95",
   "metadata": {},
   "outputs": [
    {
     "data": {
      "image/png": "[encoded data removed]",
      "text/plain": [
       "<Figure size 1000x600 with 1 Axes>"
      ]
     },
     "metadata": {},
     "output_type": "display_data"
    }
   ],
   "source": [
    "plt.figure(figsize=(10, 6))\n",
    "plt.plot(np.arange(1001), loss_path[:1001], 'b', lw=1, label=\"Training error\")\n",
    "plt.xlabel(\"Epochs\")\n",
    "plt.ylabel(\"Error\", rotation=0)\n",
    "plt.legend()\n",
    "plt.title(\"Training error of BGD\")\n",
    "\n",
    "savefig(\"1error_vs_epoch_BGD\")"
   ]
  },
  {
   "cell_type": "markdown",
   "id": "66481da8",
   "metadata": {},
   "source": [
    "Looking at final parameter vector"
   ]
  },
  {
   "cell_type": "code",
   "execution_count": 49,
   "id": "0d2f3f9e",
   "metadata": {},
   "outputs": [
    {
     "data": {
      "text/plain": [
       "array([[ 0.84034922, -0.36465046, -0.23350544],\n",
       "       [ 0.6791701 ,  0.06161036, -2.17549461],\n",
       "       [ 1.38760213,  0.38653006, -0.53089481],\n",
       "       [-1.28296113,  1.47664531,  4.23581323],\n",
       "       [-1.20231798, -1.26412199,  0.49604085]])"
      ]
     },
     "execution_count": 49,
     "metadata": {},
     "output_type": "execute_result"
    }
   ],
   "source": [
    "theta"
   ]
  },
  {
   "cell_type": "markdown",
   "id": "71cf7440",
   "metadata": {},
   "source": [
    "#### Making predictions on the validation set"
   ]
  },
  {
   "cell_type": "code",
   "execution_count": 62,
   "id": "5a0250c4",
   "metadata": {},
   "outputs": [
    {
     "data": {
      "text/plain": [
       "('accuracy: ', 1.0)"
      ]
     },
     "execution_count": 62,
     "metadata": {},
     "output_type": "execute_result"
    }
   ],
   "source": [
    "X_b_val = np.c_[np.ones((len(X_val), 1)), X_val]\n",
    "\n",
    "logits = X_b_val.dot(theta)\n",
    "Y_proba = softmax(logits)\n",
    "y_predict = One_hot_encoder(np.argmax(Y_proba, axis=1))\n",
    "\n",
    "accuracy_score = np.mean(y_predict == y_val)\n",
    "\"accuracy: \", accuracy_score\n",
    "# y_predict.shape, y_val.shape, p_k.shape"
   ]
  },
  {
   "cell_type": "markdown",
   "id": "eee1c11a",
   "metadata": {},
   "source": [
    "### BGD with $l_2$ regularisation"
   ]
  },
  {
   "cell_type": "code",
   "execution_count": 72,
   "id": "3a480df7",
   "metadata": {},
   "outputs": [
    {
     "name": "stdout",
     "output_type": "stream",
     "text": [
      "i=1, loss=2.83991357173923\n",
      "i=501, loss=0.6727226433406491\n",
      "i=1001, loss=0.6264629671468122\n",
      "i=1501, loss=0.5870201156392805\n",
      "i=2001, loss=0.5543212297158574\n",
      "i=2501, loss=0.5278628790100588\n",
      "i=3001, loss=0.5068632442008741\n",
      "i=3501, loss=0.4904965569105495\n",
      "i=4001, loss=0.47843216875450895\n",
      "i=4501, loss=0.47354302770892065\n"
     ]
    },
    {
     "data": {
      "text/plain": [
       "array([[ 3.20474499,  1.52228048, -4.74739075],\n",
       "       [-0.11240079, -0.04697018,  0.15937097],\n",
       "       [ 0.4012351 , -0.3106625 , -0.0905726 ],\n",
       "       [-0.96942057,  0.15199904,  0.81742152],\n",
       "       [-0.4084128 , -0.12680181,  0.53521462]])"
      ]
     },
     "execution_count": 72,
     "metadata": {},
     "output_type": "execute_result"
    }
   ],
   "source": [
    "eta = 0.1 # higher eta than last time\n",
    "n_iterations = 5001\n",
    "m = len(X_train)\n",
    "epsilon = 1e-7\n",
    "alpha = 0.1 # Regularisation hyperparameter\n",
    "\n",
    "theta = np.random.randn(5, 3)\n",
    "\n",
    "loss_path_l2 = []\n",
    "\n",
    "for iteration in range(n_iterations):\n",
    "    logits = X_b.dot(theta)\n",
    "    \n",
    "    p_k = softmax(logits)\n",
    "    \n",
    "    # the cost function of Softmax\n",
    "    xentropy_loss = -np.mean(np.sum(y_train * np.log(p_k + epsilon), axis=1))\n",
    "    # l2 penalty loss\n",
    "    l2_loss = 1/2 * np.sum(np.square(theta[1:]))\n",
    "    # total loss\n",
    "    loss = xentropy_loss + alpha * l2_loss\n",
    "    loss_path_l2.append(loss)\n",
    "    \n",
    "    if iteration%500 == 1:\n",
    "        print(f\"i={iteration}, loss={loss}\")\n",
    "        \n",
    "    error = p_k - y_train\n",
    "    \n",
    "    # DIFFERENT graient vector\n",
    "    gradients = 1/m * X_b.T.dot(error) + np.r_[np.zeros([1, 3]), alpha * theta[1:]]\n",
    "    \n",
    "    theta = theta - eta*gradients\n",
    "\n",
    "theta"
   ]
  },
  {
   "cell_type": "markdown",
   "id": "5f56c1c0",
   "metadata": {},
   "source": [
    "Graph for BGD learning with $l_2$ penalty"
   ]
  },
  {
   "cell_type": "code",
   "execution_count": 74,
   "id": "a68d7a63",
   "metadata": {},
   "outputs": [
    {
     "data": {
      "image/png": "[encoded data removed]",
      "text/plain": [
       "<Figure size 1000x600 with 1 Axes>"
      ]
     },
     "metadata": {},
     "output_type": "display_data"
    }
   ],
   "source": [
    "plt.figure(figsize=(10, 6))\n",
    "plt.plot(np.arange(101), loss_path[:101], 'b--', lw=1, label=\"Training error-No penalty\")\n",
    "plt.plot(np.arange(101), loss_path_l2[:101], 'g', lw=1, label=\"Training error-$l_2$ penalty\")\n",
    "\n",
    "plt.xlabel(\"Epochs\")\n",
    "plt.ylabel(\"Error\", rotation=0)\n",
    "plt.legend()\n",
    "plt.title(\"Training error of BGD\")\n",
    "\n",
    "savefig(\"2_regl2_vs_unreg_BGD\")"
   ]
  },
  {
   "cell_type": "markdown",
   "id": "943a5b31",
   "metadata": {},
   "source": [
    "Accuracy check"
   ]
  },
  {
   "cell_type": "code",
   "execution_count": 76,
   "id": "fbd55f94",
   "metadata": {},
   "outputs": [
    {
     "data": {
      "text/plain": [
       "('accuracy', 0.9722222222222222)"
      ]
     },
     "execution_count": 76,
     "metadata": {},
     "output_type": "execute_result"
    }
   ],
   "source": [
    "logits = X_b_val.dot(theta)\n",
    "p_k = softmax(logits)\n",
    "y_predict_l2 = One_hot_encoder(np.argmax(p_k, axis=1))\n",
    "\n",
    "\"accuracy\", np.mean(y_predict_l2==y_val)"
   ]
  },
  {
   "cell_type": "markdown",
   "id": "df438c0e",
   "metadata": {},
   "source": [
    "Running this $l_2$ penalised algo on validation set"
   ]
  },
  {
   "cell_type": "code",
   "execution_count": 78,
   "id": "b357ec02",
   "metadata": {},
   "outputs": [
    {
     "name": "stdout",
     "output_type": "stream",
     "text": [
      "i=1, loss=7.103228174657977\n",
      "i=501, loss=0.6226741311699022\n",
      "i=1001, loss=0.6118537713919174\n",
      "i=1501, loss=0.6029595650817615\n",
      "i=2001, loss=0.5957127953233121\n",
      "i=2501, loss=0.5897612347872598\n",
      "i=3001, loss=0.5848367015624757\n",
      "i=3501, loss=0.5807336263694609\n",
      "i=4001, loss=0.5772930536249129\n",
      "i=4501, loss=0.574391021307465\n"
     ]
    },
    {
     "data": {
      "text/plain": [
       "array([[ 3.20474499,  1.52228048, -4.74739075],\n",
       "       [-0.11240079, -0.04697018,  0.15937097],\n",
       "       [ 0.4012351 , -0.3106625 , -0.0905726 ],\n",
       "       [-0.96942057,  0.15199904,  0.81742152],\n",
       "       [-0.4084128 , -0.12680181,  0.53521462]])"
      ]
     },
     "execution_count": 78,
     "metadata": {},
     "output_type": "execute_result"
    }
   ],
   "source": [
    "eta = 0.1 # higher eta than last time\n",
    "n_iterations = 5001\n",
    "m = len(X_train)\n",
    "epsilon = 1e-7\n",
    "alpha = 0.1 # Regularisation hyperparameter\n",
    "\n",
    "theta_v = np.random.randn(5, 3)\n",
    "\n",
    "loss_path_l2_val = []\n",
    "\n",
    "for iteration in range(n_iterations):\n",
    "    logits = X_b_val.dot(theta_v)\n",
    "    \n",
    "    p_k = softmax(logits)\n",
    "    \n",
    "    # the cost function of Softmax\n",
    "    xentropy_loss = -np.mean(np.sum(y_val * np.log(p_k + epsilon), axis=1))\n",
    "    # l2 penalty loss\n",
    "    l2_loss = 1/2 * np.sum(np.square(theta_v[1:]))\n",
    "    # total loss\n",
    "    loss = xentropy_loss + alpha * l2_loss\n",
    "    loss_path_l2_val.append(loss)\n",
    "    \n",
    "    if iteration%500 == 1:\n",
    "        print(f\"i={iteration}, loss={loss}\")\n",
    "        \n",
    "    error = p_k - y_val\n",
    "    \n",
    "    # DIFFERENT graient vector\n",
    "    gradients = 1/m * X_b_val.T.dot(error) + np.r_[np.zeros([1, 3]), alpha * theta_v[1:]]\n",
    "    \n",
    "    theta_v = theta_v - eta*gradients\n",
    "\n",
    "theta"
   ]
  },
  {
   "cell_type": "code",
   "execution_count": 84,
   "id": "33831df9",
   "metadata": {},
   "outputs": [
    {
     "data": {
      "image/png": "[encoded data removed]",
      "text/plain": [
       "<Figure size 1000x600 with 1 Axes>"
      ]
     },
     "metadata": {},
     "output_type": "display_data"
    }
   ],
   "source": [
    "plt.figure(figsize=(10, 6))\n",
    "plt.plot(np.arange(101), loss_path_l2_val[:101], 'r-', lw=1, label=\"Validation error-$l_2$ penalty\")\n",
    "plt.plot(np.arange(101), loss_path_l2[:101], 'g', lw=1, label=\"Training error-$l_2$ penalty\")\n",
    "\n",
    "plt.xlabel(\"Epochs\")\n",
    "plt.ylabel(\"Error\", rotation=0)\n",
    "plt.legend()\n",
    "plt.title(\"Training error of BGD\")\n",
    "\n",
    "savefig(\"3_validation_vs_training_error_l2\")"
   ]
  },
  {
   "cell_type": "markdown",
   "id": "e5f8dcd0",
   "metadata": {},
   "source": [
    "### BGD with $l_2$ penalty and *Early Stopping*"
   ]
  },
  {
   "cell_type": "markdown",
   "id": "af6d367e",
   "metadata": {},
   "source": [
    "Since this is \"too\" early stopping, adding a `tolerence` of 10 consecutive terms"
   ]
  },
  {
   "cell_type": "code",
   "execution_count": 119,
   "id": "a25925d4",
   "metadata": {},
   "outputs": [
    {
     "name": "stdout",
     "output_type": "stream",
     "text": [
      "i=1, loss=1.7086310889855179\n",
      "i=501, loss=0.624708005142158\n",
      "i=1001, loss=0.5891973365356182\n",
      "i=1501, loss=0.5610912811486635\n",
      "i=2001, loss=0.5392060609583414\n",
      "i=2501, loss=0.5226515544146673\n",
      "i=3001, loss=0.5109608323425819\n",
      "i=3501, loss=0.5051181732845942\n",
      "i=3616, loss=0.504949220857984\n",
      "i=3617, loss=0.5049504374367046\n",
      "EARLY STOPPING!!!\n"
     ]
    }
   ],
   "source": [
    "eta = 0.1\n",
    "n_iterations = 5001\n",
    "m = len(X_train)\n",
    "epsilon = 1e-7\n",
    "alpha = 0.1 # Regularisation hyperparameter\n",
    "best_loss = np.infty\n",
    "best_iteration = 0\n",
    "# Dnt know why but some random behaviour in BGD too, therefore some tolerance precautions\n",
    "tolerance = 10\n",
    "bad_iter_times = 0 # counts no of times for consecutive 'bad_iteration'\n",
    "theta_saved = False # flag if theta is saved in 'bad_iter' case\n",
    "saved_theta = None\n",
    "\n",
    "theta = np.random.randn(5, 3)\n",
    "\n",
    "# 2 loss path for both training and validation sets\n",
    "loss_path_ES_train = []\n",
    "loss_path_ES_val = []\n",
    "\n",
    "for iteration in range(n_iterations):\n",
    "    \n",
    "    #training part\n",
    "    logits = X_b.dot(theta)\n",
    "    p_k = softmax(logits)\n",
    "    xentropy_loss = -np.mean(np.sum(y_train * np.log(p_k + epsilon), axis=1))\n",
    "    l2_loss = 1/2 * np.sum(np.square(theta[1:]))\n",
    "    loss_tr = xentropy_loss + alpha * l2_loss\n",
    "    loss_path_ES_train.append(loss_tr)\n",
    "    \n",
    "    error = p_k - y_train\n",
    "    gradients = 1/m * X_b.T.dot(error) + np.r_[np.zeros([1, 3]), alpha * theta[1:]]\n",
    "    theta = theta - eta*gradients\n",
    "    \n",
    "    # validation part\n",
    "    logits = X_b_val.dot(theta)\n",
    "    p_k = softmax(logits)\n",
    "    xentropy_loss = -np.mean(np.sum(y_val * np.log(p_k + epsilon), axis=1))\n",
    "    l2_loss = 1/2 * np.sum(np.square(theta[1:]))\n",
    "    loss = xentropy_loss + alpha * l2_loss\n",
    "    loss_path_ES_val.append(loss)\n",
    "    \n",
    "    if iteration%500 == 1:\n",
    "        print(f\"i={iteration}, loss={loss}\")\n",
    "        \n",
    "    # Early stopping\n",
    "    if loss < best_loss:\n",
    "        best_loss = loss\n",
    "        # tolerance precautions\n",
    "        bad_iter_times = 0\n",
    "        theta_saved = False\n",
    "    else:\n",
    "        bad_iter_times += 1\n",
    "        if bad_iter_times < tolerance:\n",
    "            if theta_saved == False:\n",
    "                saved_theta = theta\n",
    "                theta_saved = True\n",
    "            pass\n",
    "        else: # bad_iter_times >= tolerance\n",
    "            best_iteration = iteration-1\n",
    "            print(f\"i={best_iteration}, loss={best_loss}\")\n",
    "            print(f\"i={iteration}, loss={loss}\")\n",
    "            print(\"EARLY STOPPING!!!\")\n",
    "            # if saved_theta != None:\n",
    "            theta = saved_theta\n",
    "            break\n"
   ]
  },
  {
   "cell_type": "code",
   "execution_count": 118,
   "id": "16731124",
   "metadata": {},
   "outputs": [
    {
     "data": {
      "image/png": "[encoded data removed]",
      "text/plain": [
       "<Figure size 1000x600 with 1 Axes>"
      ]
     },
     "metadata": {},
     "output_type": "display_data"
    }
   ],
   "source": [
    "plt.figure(figsize=(10, 6))\n",
    "plt.plot(np.arange(19), loss_path_ES_val[:19], 'r-', lw=1, label=\"Validation error-Early stopping\")\n",
    "plt.plot(np.arange(19), loss_path_ES_train[:19], 'g', lw=1, label=\"Training error-Early stopping\")\n",
    "\n",
    "plt.xlabel(\"Epochs\")\n",
    "plt.ylabel(\"Error\", rotation=0)\n",
    "plt.legend()\n",
    "plt.title(\"'too' Early stopping\")\n",
    "\n",
    "savefig(\"4_too_early_stopping\")"
   ]
  },
  {
   "cell_type": "markdown",
   "id": "dd49e441",
   "metadata": {},
   "source": [
    "Accuracy check for Early Stopping model"
   ]
  },
  {
   "cell_type": "code",
   "execution_count": 116,
   "id": "8c9c2f31",
   "metadata": {},
   "outputs": [
    {
     "data": {
      "text/plain": [
       "('accuracy', 0.9555555555555556)"
      ]
     },
     "execution_count": 116,
     "metadata": {},
     "output_type": "execute_result"
    }
   ],
   "source": [
    "X_b_test = np.c_[np.ones((len(X_test), 1)), X_test]\n",
    "\n",
    "\n",
    "logits = X_b_test.dot(theta)\n",
    "p_k = softmax(logits)\n",
    "y_predict_l2 = One_hot_encoder(np.argmax(p_k, axis=1))\n",
    "\n",
    "\"accuracy\", np.mean(y_predict_l2==y_test)"
   ]
  },
  {
   "cell_type": "code",
   "execution_count": null,
   "id": "8bd95494",
   "metadata": {},
   "outputs": [],
   "source": [
    "plt.figure(figsize=(10, 6))\n",
    "plt.plot(np.arange(3600), loss_path_ES_val[:3600], 'r-o', lw=1, label=\"Validation error-Early stopping\")\n",
    "plt.plot(np.arange(3600), loss_path_ES_train[:3600], 'g', lw=1, label=\"Training error-Early stopping\")\n",
    "plt.plot([best_iteration for _ in range(10)], [x for x in range(10)], 'k--', lw=1, label=f\"Best Epoch: {best_iteration}\")\n",
    "\n",
    "plt.xlabel(\"Epochs\")\n",
    "plt.ylabel(\"Error\", rotation=0)\n",
    "plt.legend()\n",
    "plt.title(\"Fixed- Early stopping on BGD with $l_2$ penalty\")\n",
    "\n",
    "savefig(\"4_too_early_stopping\")"
   ]
  },
  {
   "cell_type": "code",
   "execution_count": null,
   "id": "d9310e14",
   "metadata": {},
   "outputs": [],
   "source": []
  }
 ],
 "metadata": {
  "kernelspec": {
   "display_name": "Python 3 (ipykernel)",
   "language": "python",
   "name": "python3"
  },
  "language_info": {
   "codemirror_mode": {
    "name": "ipython",
    "version": 3
   },
   "file_extension": ".py",
   "mimetype": "text/x-python",
   "name": "python",
   "nbconvert_exporter": "python",
   "pygments_lexer": "ipython3",
   "version": "3.10.6"
  }
 },
 "nbformat": 4,
 "nbformat_minor": 5
}
